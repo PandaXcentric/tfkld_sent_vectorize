{
 "cells": [
  {
   "cell_type": "code",
   "execution_count": null,
   "metadata": {},
   "outputs": [],
   "source": [
    "from nltk.tokenize import sent_tokenize\n",
    "from sklearn.metrics.pairwise import cosine_similarity\n",
    "from sklearn.externals import joblib\n",
    "import numpy as np\n",
    "\n",
    "tfkld_location = \"tfkld.pkl\"\n",
    "pca_location = \"pca_tfkld.pkl\""
   ]
  },
  {
   "cell_type": "markdown",
   "metadata": {},
   "source": [
    "### Load Models"
   ]
  },
  {
   "cell_type": "code",
   "execution_count": null,
   "metadata": {},
   "outputs": [],
   "source": [
    "# Load the TFKLD Model, we'll be training the PCA Reduction on the vectors it outputs\n",
    "tfkld_model = joblib.load(tfkld_location)\n",
    "\n",
    "# Load PCA\n",
    "pca_model = joblib.load(pca_location)"
   ]
  },
  {
   "cell_type": "markdown",
   "metadata": {},
   "source": [
    "### Utility functions for sentence similarity tfkld vectors"
   ]
  },
  {
   "cell_type": "code",
   "execution_count": null,
   "metadata": {},
   "outputs": [],
   "source": [
    "def mean_sentences_vector(sentences):\n",
    "    vec_list = tfkld_model.transform(sentences)\n",
    "    if len(sentences) > 1:\n",
    "        array_to_convert = []\n",
    "        for vec in vec_list:\n",
    "            array_to_convert.append(vec.toarray()[0].tolist())\n",
    "        mean_vector = np.mean(np.array(array_to_convert), axis=0, dtype=np.float64).tolist()\n",
    "    else:\n",
    "        mean_vector = vec_list[0].toarray()[0].tolist()\n",
    "\n",
    "    return pca_model.transform([mean_vector])[0].tolist()\n"
   ]
  },
  {
   "cell_type": "code",
   "execution_count": null,
   "metadata": {},
   "outputs": [],
   "source": [
    "def vectorize_sentences(sentences):\n",
    "    vec_sentences = []\n",
    "    vec_list = tfkld_model.transform(sentences)\n",
    "    for vec in vec_list:\n",
    "        vec_sentences.append(pca_model.transform([vec.toarray()[0].tolist()])[0].tolist())\n",
    "\n",
    "    return vec_sentences"
   ]
  },
  {
   "cell_type": "code",
   "execution_count": null,
   "metadata": {},
   "outputs": [],
   "source": [
    "def increase_sentence_vector(sentences, sentence_dict={}):\n",
    "    for index, sent_vec in enumerate(tfkld_model.transform(sentences)):\n",
    "        sentence_dict[sentences[index]] = pca_model.transform([sent_vec.toarray()[0].tolist()])\n",
    "    \n",
    "    return sentence_dict"
   ]
  },
  {
   "cell_type": "code",
   "execution_count": null,
   "metadata": {},
   "outputs": [],
   "source": [
    "# This will take a list of text and convert it into a sentence vector\n",
    "def vectorize_document_list(documents, sentence_dict={}):\n",
    "    for doc in documents:\n",
    "        sentence_dict = increase_sentence_vector(sent_tokenize(doc), sentence_dict)\n",
    "    \n",
    "    return sentence_dict"
   ]
  },
  {
   "cell_type": "code",
   "execution_count": null,
   "metadata": {},
   "outputs": [],
   "source": [
    "# Get the sentences whose cosine similarity is closest to the passed sentence\n",
    "def get_most_similar_sentences(sentence_dict, sentence, tnum=5):\n",
    "    sentences_to_return = []\n",
    "    sent_vect = vectorize_sentences([sentence])[0]\n",
    "\n",
    "    lowest_distance = 0\n",
    "    for sent, vector in sentence_dict.iteritems():\n",
    "        similarity = cosine_similarity(np.array(vector).reshape(1, -1), np.array(sent_vect).reshape(1, -1)).tolist()[0][0]\n",
    "        if len(sentences_to_return) < tnum:\n",
    "            sentences_to_return.append((sent, similarity))\n",
    "\n",
    "            if lowest_distance > similarity:\n",
    "                lowest_distance = similarity\n",
    "        else:\n",
    "            if lowest_distance < similarity:\n",
    "                new_lowest_distance = similarity\n",
    "                for index, existing_sent in enumerate(sentences_to_return):\n",
    "                    if existing_sent[1] == lowest_distance:\n",
    "                        sentences_to_return[index] = (sent, similarity)\n",
    "                    elif existing_sent[1] < new_lowest_distance:\n",
    "                        new_lowest_distance = existing_sent[1]\n",
    "\n",
    "                lowest_distance = new_lowest_distance\n",
    "\n",
    "    sentences_to_return.sort(key=lambda x: x[1], reverse=True)\n",
    "\n",
    "    return sentences_to_return\n",
    "    \n",
    "    "
   ]
  },
  {
   "cell_type": "code",
   "execution_count": null,
   "metadata": {},
   "outputs": [],
   "source": [
    "def get_most_similar_sentences_to_vector(sentence_dict, mean_vector, tnum=5):\n",
    "    sentences_to_return = []\n",
    "\n",
    "    lowest_distance = 0\n",
    "    for sent, vector in sentence_dict.iteritems():\n",
    "        similarity = cosine_similarity(np.array(vector).reshape(1, -1), np.array(mean_vector).reshape(1, -1)).tolist()[0][0]\n",
    "        if len(sentences_to_return) < tnum:\n",
    "            sentences_to_return.append((sent, similarity))\n",
    "\n",
    "            if lowest_distance > similarity:\n",
    "                lowest_distance = similarity\n",
    "        else:\n",
    "            if lowest_distance < similarity:\n",
    "                new_lowest_distance = similarity\n",
    "                for index, existing_sent in enumerate(sentences_to_return):\n",
    "                    if existing_sent[1] == lowest_distance:\n",
    "                        sentences_to_return[index] = (sent, similarity)\n",
    "                    elif existing_sent[1] < new_lowest_distance:\n",
    "                        new_lowest_distance = existing_sent[1]\n",
    "\n",
    "                lowest_distance = new_lowest_distance\n",
    "\n",
    "    sentences_to_return.sort(key=lambda x: x[1], reverse=True)\n",
    "\n",
    "    return sentences_to_return"
   ]
  },
  {
   "cell_type": "code",
   "execution_count": null,
   "metadata": {},
   "outputs": [],
   "source": [
    "def get_distances_between_sentences(sentences):\n",
    "    sentences_distances = []\n",
    "    for i in range(0, len(sentences)):\n",
    "        for j in range(i + 1, len(sentences)):\n",
    "            distance = {\"sent1\": sentences[i], \"sent2\": sentences[j]}\n",
    "            vec_list_1 = \\\n",
    "            pca_model.transform(\n",
    "                [tfkld_model.transform([sentences[i]])[0].toarray()[0].tolist()]\n",
    "            )\n",
    "            vec_list_2 = \\\n",
    "            pca_model.transform(\n",
    "                [tfkld_model.transform([sentences[j]])[0].toarray()[0].tolist()]\n",
    "            )\n",
    "\n",
    "            distance[\"distance\"] = float(cosine_similarity(vec_list_1, vec_list_2))\n",
    "            sentences_distances.append(distance)\n",
    "\n",
    "    return sentences_distances"
   ]
  },
  {
   "cell_type": "markdown",
   "metadata": {},
   "source": [
    "### Test Utility Functions"
   ]
  },
  {
   "cell_type": "code",
   "execution_count": null,
   "metadata": {},
   "outputs": [],
   "source": [
    "doc_list = []\n",
    "file_1 = open('test_documents/crypto_currency.txt','r')\n",
    "file_2 = open('test_documents/trump_401k.txt','r')\n",
    "\n",
    "doc_list.append(file_1.read())\n",
    "doc_list.append(file_2.read())"
   ]
  },
  {
   "cell_type": "code",
   "execution_count": null,
   "metadata": {},
   "outputs": [],
   "source": [
    "sent_dict = vectorize_document_list(doc_list)\n",
    "\n",
    "vectorize_sentences([\"Hello what is your name?\", \"I like cheese.\", \"what do you think of me?\"])"
   ]
  },
  {
   "cell_type": "code",
   "execution_count": null,
   "metadata": {},
   "outputs": [],
   "source": [
    "sentences = get_most_similar_sentences(\n",
    "    sent_dict,\n",
    "    \"“So he just may not realize that he’s speaking to the privileged few.” Only a third of people contribute anything to their retirement accounts, according to a Census study released this year.\",\n",
    "    10\n",
    ")\n",
    "print sentences[0]"
   ]
  },
  {
   "cell_type": "code",
   "execution_count": null,
   "metadata": {},
   "outputs": [],
   "source": [
    "mean_sentences_vector(\n",
    "        [\"“So he just may not realize that he’s speaking to the privileged few.” Only a third of people contribute anything to their retirement accounts, according to a Census study released this year.\"]\n",
    "    )"
   ]
  },
  {
   "cell_type": "code",
   "execution_count": null,
   "metadata": {},
   "outputs": [],
   "source": [
    "new_sentences = get_most_similar_sentences_to_vector(\n",
    "    sent_dict,\n",
    "    mean_sentences_vector(\n",
    "        [\"“So he just may not realize that he’s speaking to the privileged few.” Only a third of people contribute anything to their retirement accounts, according to a Census study released this year.\"]\n",
    "    )\n",
    ")\n",
    "print new_sentences[0]"
   ]
  },
  {
   "cell_type": "code",
   "execution_count": null,
   "metadata": {},
   "outputs": [],
   "source": [
    "sentences = get_distances_between_sentences([\"hello world.\", \"I like applesauce.\"])\n",
    "print sentences"
   ]
  },
  {
   "cell_type": "code",
   "execution_count": null,
   "metadata": {},
   "outputs": [],
   "source": []
  }
 ],
 "metadata": {
  "kernelspec": {
   "display_name": "Python 2",
   "language": "python",
   "name": "python2"
  },
  "language_info": {
   "codemirror_mode": {
    "name": "ipython",
    "version": 2
   },
   "file_extension": ".py",
   "mimetype": "text/x-python",
   "name": "python",
   "nbconvert_exporter": "python",
   "pygments_lexer": "ipython2",
   "version": "2.7.12"
  }
 },
 "nbformat": 4,
 "nbformat_minor": 2
}
