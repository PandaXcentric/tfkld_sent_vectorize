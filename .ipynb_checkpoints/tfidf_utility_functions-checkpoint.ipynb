{
 "cells": [
  {
   "cell_type": "code",
   "execution_count": null,
   "metadata": {},
   "outputs": [],
   "source": [
    "from sklearn.externals import joblib\n",
    "from nltk.tokenize import sent_tokenize\n",
    "from sklearn.metrics.pairwise import cosine_similarity\n",
    "import codecs"
   ]
  },
  {
   "cell_type": "markdown",
   "metadata": {},
   "source": [
    "### Load TFIDF Model"
   ]
  },
  {
   "cell_type": "code",
   "execution_count": null,
   "metadata": {},
   "outputs": [],
   "source": [
    "tfidf_model = joblib.load(\"tfidf.pkl\")"
   ]
  },
  {
   "cell_type": "markdown",
   "metadata": {},
   "source": [
    "### Utility Functions"
   ]
  },
  {
   "cell_type": "code",
   "execution_count": null,
   "metadata": {},
   "outputs": [],
   "source": [
    "def mean_sentences_vector_tfidf(sentences):\n",
    "    vec_list = tfidf_model.transform(sentences)\n",
    "    \n",
    "    if len(sentences) > 1:\n",
    "        mean_vector = np.mean(np.array(vec_list), axis=0, dtype=np.float64)\n",
    "    else:\n",
    "        mean_vector = vec_list[0]\n",
    "    \n",
    "    return mean_vector"
   ]
  },
  {
   "cell_type": "code",
   "execution_count": null,
   "metadata": {},
   "outputs": [],
   "source": [
    "def increase_sentence_vector_tfidf(sentences, sentence_dict = {}):\n",
    "    for index, sent_vec in enumerate(tfidf_model.transform(sentences)):\n",
    "        sentence_dict[sentences[index]] = sent_vec\n",
    "    \n",
    "    return sentence_dict"
   ]
  },
  {
   "cell_type": "code",
   "execution_count": null,
   "metadata": {},
   "outputs": [],
   "source": [
    "def vectorize_document_list_tfidf(documents, sentence_dict={}):\n",
    "    for doc in documents:\n",
    "        increase_sentence_vector_tfidf(sent_tokenize(doc), sentence_dict)\n",
    "    \n",
    "    return sentence_dict"
   ]
  },
  {
   "cell_type": "code",
   "execution_count": null,
   "metadata": {},
   "outputs": [],
   "source": [
    "def get_most_similar_sentences_tfidf(sentence_dict, sentences, tnum=5):\n",
    "    sentences_to_return = []\n",
    "    \n",
    "    mean_vector = mean_sentences_vector_tfidf(sentences)\n",
    "    \n",
    "    lowest_distance = 0\n",
    "    for sent, vector in sentence_dict.iteritems():\n",
    "        similarity = cosine_similarity(vector, mean_vector)\n",
    "        if len(sentences_to_return) < tnum:\n",
    "            sentences_to_return.append((sent, similarity))\n",
    "            \n",
    "            if lowest_distance > similarity:\n",
    "                lowest_distance = similarity\n",
    "        else:\n",
    "            if lowest_distance < similarity:\n",
    "                new_lowest_distance = similarity\n",
    "                for index, existing_sent in enumerate(sentences_to_return):\n",
    "                    if existing_sent[1] == lowest_distance:\n",
    "                        sentences_to_return[index] = (sent, similarity)\n",
    "                    elif existing_sent[1] < new_lowest_distance:\n",
    "                        new_lowest_distance = existing_sent[1]\n",
    "                \n",
    "                lowest_distance = new_lowest_distance\n",
    "    \n",
    "    sentences_to_return.sort(key=lambda x: x[1], reverse=True)\n",
    "    \n",
    "    return sentences_to_return"
   ]
  },
  {
   "cell_type": "code",
   "execution_count": null,
   "metadata": {},
   "outputs": [],
   "source": [
    "doc_list = []\n",
    "file_1 = codecs.open('test_documents/crypto_currency.txt', encoding='utf-8', mode='r')\n",
    "file_2 = codecs.open('test_documents/trump_401k.txt', encoding='utf-8', mode='r')\n",
    "\n",
    "doc_list.append(file_1.read())\n",
    "doc_list.append(file_2.read())"
   ]
  },
  {
   "cell_type": "code",
   "execution_count": null,
   "metadata": {},
   "outputs": [],
   "source": [
    "sent_dict = vectorize_document_list_tfidf(doc_list)"
   ]
  },
  {
   "cell_type": "code",
   "execution_count": null,
   "metadata": {},
   "outputs": [],
   "source": [
    "sentences = get_most_similar_sentences_tfidf(\n",
    "    sent_dict,\n",
    "    [\"“So he just may not realize that he’s speaking to the privileged few.” Only a third of people contribute anything to their retirement accounts, according to a Census study released this year.\"],\n",
    "    10\n",
    ")"
   ]
  },
  {
   "cell_type": "code",
   "execution_count": null,
   "metadata": {},
   "outputs": [],
   "source": [
    "print sentences\n",
    "print len(sentences)"
   ]
  },
  {
   "cell_type": "code",
   "execution_count": null,
   "metadata": {},
   "outputs": [],
   "source": []
  }
 ],
 "metadata": {
  "kernelspec": {
   "display_name": "Python 2",
   "language": "python",
   "name": "python2"
  },
  "language_info": {
   "codemirror_mode": {
    "name": "ipython",
    "version": 2
   },
   "file_extension": ".py",
   "mimetype": "text/x-python",
   "name": "python",
   "nbconvert_exporter": "python",
   "pygments_lexer": "ipython2",
   "version": "2.7.12"
  }
 },
 "nbformat": 4,
 "nbformat_minor": 2
}
